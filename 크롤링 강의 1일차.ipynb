{
 "cells": [
  {
   "cell_type": "code",
   "execution_count": 3,
   "id": "c7cce840-78b2-47bd-aee9-5117505f6a21",
   "metadata": {},
   "outputs": [],
   "source": [
    "import chromedriver_autoinstaller as ca\n",
    "from selenium import webdriver\n",
    "import time, os, sys"
   ]
  },
  {
   "cell_type": "code",
   "execution_count": 9,
   "id": "db3c38cd-e33b-4bef-ba42-605da9bb630e",
   "metadata": {},
   "outputs": [],
   "source": [
    "driver = webdriver.Chrome() # ActionChains -> key value\n",
    "def ts(x):\n",
    "    time.sleep(x)\n",
    "    \n",
    "# 웹사이트 오픈하고 닫기\n",
    "ts(2)\n",
    "driver.get('https:www.naver.com')\n",
    "\n",
    "ts(5)\n",
    "driver.close()"
   ]
  },
  {
   "cell_type": "code",
   "execution_count": 10,
   "id": "037d0bcf-c54d-49d7-a50c-7e561f6a7a46",
   "metadata": {},
   "outputs": [],
   "source": [
    "# 웹 사이트 키고 팝업창 끄기 실습\n",
    "from selenium.webdriver.common.by import By\n",
    "driver = webdriver.Chrome()\n",
    "driver.get('https://www.riss.kr')\n",
    "time.sleep(2)\n",
    "driver.maximize_window()\n",
    "\n",
    "main = driver.window_handles\n",
    "\n",
    "for i in main:\n",
    "    if i !=main[0]:\n",
    "        driver.switch_to.window(i)\n",
    "        driver.close()\n",
    "driver.switch_to.window(driver.window_handles[0]) # driver.switch_to.window(main[0])도 가능\n",
    "\n",
    "time.sleep(5)\n",
    "driver.close()"
   ]
  },
  {
   "cell_type": "code",
   "execution_count": 13,
   "id": "fad1739f-a2e1-49c8-a407-6215a37181e0",
   "metadata": {},
   "outputs": [],
   "source": [
    "# 웹 페이지의 특정 element에 접근하는 다양한 방식\n",
    "from selenium.webdriver.common.by import By\n",
    "\n",
    "driver = webdriver.Chrome()\n",
    "driver.get('https://www.riss.kr')\n",
    "time.sleep(2)\n",
    "driver.maximize_window()\n",
    "main = driver.window_handles\n",
    "for i in main:\n",
    "    if i !=main[0]:\n",
    "        driver.switch_to.window(i)\n",
    "        driver.close()\n",
    "driver.switch_to.window(driver.window_handles[0]) # driver.switch_to.window(main[0])도 가능\n",
    "#rㅓㅁ색창에 검색어 넣기\n",
    "driver.find_element(By.ID, 'query').send_keys('빅데이터'+'\\n') #clear 쓰면 검색창에 있는거 다 없애줌, \\n -> 엔터와 같은 기능\n",
    "time.sleep(2)\n",
    "#원하는 곳 클릭하기 (타이틀에만 이름 있는 것을 링크 텍스트라 함\n",
    "driver.find_element(By.LINK_TEXT, \"국내학술논문\").click()\n",
    "time.sleep(2)\n",
    "driver.find_element(By.XPATH, '//*[@id=\"tabMenu\"]/ul/li/div/ul/li[2]/a/span').click()#xpath는 절대 경로이기도 하고 상대 경로이기도 함 (순서대로 찾음) 장점: 잘 찾아줌 단점: 위치가 바뀌면 에러가 난다. //*[@id=\"main\"]/li[2]/a\n",
    "\n",
    "time.sleep(5)\n",
    "driver.close()"
   ]
  }
 ],
 "metadata": {
  "kernelspec": {
   "display_name": "Python 3 (ipykernel)",
   "language": "python",
   "name": "python3"
  },
  "language_info": {
   "codemirror_mode": {
    "name": "ipython",
    "version": 3
   },
   "file_extension": ".py",
   "mimetype": "text/x-python",
   "name": "python",
   "nbconvert_exporter": "python",
   "pygments_lexer": "ipython3",
   "version": "3.10.9"
  }
 },
 "nbformat": 4,
 "nbformat_minor": 5
}
