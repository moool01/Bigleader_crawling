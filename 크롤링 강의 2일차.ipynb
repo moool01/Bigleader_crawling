{
 "cells": [
  {
   "cell_type": "code",
   "execution_count": 7,
   "id": "b900bc63-6acb-43b7-af2e-b946912ea7c0",
   "metadata": {},
   "outputs": [
    {
     "name": "stdout",
     "output_type": "stream",
     "text": [
      "<p align=\"center\"> text 1 </p>\n",
      "text 2\n",
      "<p align=\"center\"> text 1 </p>\n",
      "<p align=\"left\"> text 3 </p>\n"
     ]
    }
   ],
   "source": [
    "from bs4 import BeautifulSoup \n",
    "ex1 = '''\n",
    "<html>\n",
    "<head>\n",
    "<title> HTML 연습 </title>\n",
    "</head> <body>\n",
    "속성값을 사용하여 조회하기\n",
    "<p align=\"center\"> text 1 </p>\n",
    "<p align=\"right\"> text 2 </p>\n",
    "<p align=\"left\"> text 3 </p>\n",
    "<img src=\"c:\\\\temp\\\\image\\\\솔개.png\">\n",
    "</body> <html> \n",
    "'''\n",
    "soup = BeautifulSoup(ex1, 'html.parser')\n",
    "\n",
    "print( soup.find('p') )\n",
    "print( soup.find('p',align=\"right\").get_text().strip() )\n",
    "print( soup.find('p',align=\"center\") )\n",
    "print( soup.find('p',align=\"left\") )"
   ]
  },
  {
   "cell_type": "code",
   "execution_count": 8,
   "id": "d45965b2-c0c7-41a6-9150-151cffa95b6c",
   "metadata": {},
   "outputs": [
    {
     "name": "stdout",
     "output_type": "stream",
     "text": [
      "txt 1\n",
      "txt 2\n",
      "txt 3\n"
     ]
    }
   ],
   "source": [
    "for i in soup.find_all('p'):\n",
    "    print(i.get_text().strip().replace('text', 'txt'))\n",
    "    "
   ]
  },
  {
   "cell_type": "code",
   "execution_count": 10,
   "id": "8f50eb75-54b9-45d7-a565-267fb8c84957",
   "metadata": {},
   "outputs": [
    {
     "name": "stdout",
     "output_type": "stream",
     "text": [
      "1 text 1\n",
      "2 text 2\n",
      "3 text 3\n"
     ]
    }
   ],
   "source": [
    "x = soup.find_all('p')\n",
    "for idx, i in enumerate(x, start=1):\n",
    "    print(idx, i.get_text().strip())\n",
    "    "
   ]
  },
  {
   "cell_type": "markdown",
   "id": "0a8ee2f4-d0c2-4109-bbf1-4d447c18456a",
   "metadata": {},
   "source": [
    "#웹 제어를 위한 크롬 드라이버 설정1  \n",
    "#크롬드라이버 자동 다운로드  \n",
    "from selenium import webdriver  \n",
    "import chromedriver_autoinstaller as ca  \n",
    "driver = webdriver.Chrome(ca.install())  \n",
    "\n",
    "\n",
    "#웹 제어를 위한 크롬 드라이버 설정2  \n",
    "#크롬드라이버 수동 다운로드 및 활용  \n",
    "\n",
    "from selenium import webdriver  \n",
    "driver = webdriver.Chrome('./Users/user name/py_temp/chromedriver')  \n",
    "\n",
    "#웹 제어를 위한 크롬 드라이버 설정3  \n",
    "#파이썬 3.10 이상 버전  \n",
    "from selenium import webdriver  \n",
    "driver = webdriver.Chrome()  \n"
   ]
  },
  {
   "cell_type": "code",
   "execution_count": 4,
   "id": "a6a44b28-7e04-4d3a-9b0e-5f6d0d3f72e1",
   "metadata": {},
   "outputs": [
    {
     "name": "stdout",
     "output_type": "stream",
     "text": [
      "빅데이터 산업의 활성화에 따른 개인정보 보호에 관한 연구\n",
      "빅데이터 활용을 위한 법제 개선 방안에 관한 연구\n",
      "빅데이터 분석을 활용한 지역맞춤형 평생교육프로그램 개발 모형\n",
      "기업의 빅데이터 활용의도에 영향을 미치는 요인에 관한 연구\n",
      "유동인구 빅데이터의 효율적 활용 방안에 관한 연구 : C통신사 사례를 중심으로\n",
      "빅데이터 환경에서 개인정보 이용에 관한 법적 고찰\n",
      "빅데이터로서 수사기록 보존폐기에 대한 연구\n",
      "특허분석을 통한 빅데이터의 공백기술 예측 및 기술개발 방향에 대한 연구\n",
      "빅 데이터를 활용한 패션 브랜드 웹기반 소비자 평가 트렌드 추이 분석 : 브랜드 마케팅 전략과의 연계성을 중심으로\n",
      "빅데이터 활용을 위한 개인정보 비식별화 관련 지식재산 및 정보보호법률 개선방안\n"
     ]
    }
   ],
   "source": [
    "# 제목만 크롤링\n",
    "import chromedriver_autoinstaller as ca\n",
    "from selenium import webdriver\n",
    "import time, os, sys\n",
    "from bs4 import BeautifulSoup\n",
    "from selenium.webdriver.common.by import By\n",
    "\n",
    "driver = webdriver.Chrome()\n",
    "driver.get('https://www.riss.kr')\n",
    "time.sleep(2)\n",
    "driver.maximize_window()\n",
    "main = driver.window_handles\n",
    "for i in main:\n",
    "    if i !=main[0]:\n",
    "        driver.switch_to.window(i)\n",
    "        driver.close()\n",
    "driver.switch_to.window(driver.window_handles[0]) # driver.switch_to.window(main[0])도 가능\n",
    "#rㅓㅁ색창에 검색어 넣기\n",
    "driver.find_element(By.ID, 'query').send_keys('빅데이터'+'\\n') #clear 쓰면 검색창에 있는거 다 없애줌, \\n -> 엔터와 같은 기능\n",
    "time.sleep(2)\n",
    "#원하는 곳 클릭하기 (타이틀에만 이름 있는 것을 링크 텍스트라 함\n",
    "driver.find_element(By.LINK_TEXT, \"학위논문\").click()\n",
    "time.sleep(2)\n",
    "\n",
    "soup = BeautifulSoup(driver.page_source, 'html.parser')\n",
    "title = soup.find('div', class_='srchResultListW').find_all('p', class_='title')\n",
    "for idx, i in enumerate(title, start=1):\n",
    "    print(i.get_text())\n",
    "\n",
    "\n",
    "time.sleep(5)\n",
    "driver.close()"
   ]
  },
  {
   "cell_type": "code",
   "execution_count": 7,
   "id": "2371b6bc-8154-4f2b-8d4f-0bfbc95ad868",
   "metadata": {},
   "outputs": [
    {
     "name": "stdout",
     "output_type": "stream",
     "text": [
      "빅데이터 산업의 활성화에 따른 개인정보 보호에 관한 연구\n",
      "빅데이터 활용을 위한 법제 개선 방안에 관한 연구\n",
      "빅데이터 분석을 활용한 지역맞춤형 평생교육프로그램 개발 모형\n",
      "기업의 빅데이터 활용의도에 영향을 미치는 요인에 관한 연구\n",
      "유동인구 빅데이터의 효율적 활용 방안에 관한 연구 : C통신사 사례를 중심으로\n",
      "빅데이터 환경에서 개인정보 이용에 관한 법적 고찰\n",
      "빅데이터로서 수사기록 보존폐기에 대한 연구\n",
      "특허분석을 통한 빅데이터의 공백기술 예측 및 기술개발 방향에 대한 연구\n",
      "빅 데이터를 활용한 패션 브랜드 웹기반 소비자 평가 트렌드 추이 분석 : 브랜드 마케팅 전략과의 연계성을 중심으로\n",
      "빅데이터 활용을 위한 개인정보 비식별화 관련 지식재산 및 정보보호법률 개선방안\n",
      "차상휘\n",
      "전우광\n",
      "김현성\n",
      "고형석\n",
      "권용민\n",
      "정원준\n",
      "홍승아\n",
      "한지혜\n",
      "허준석\n",
      "이미라\n",
      "전북대학교\n",
      "동국대학교\n",
      "대구한의대학교 대학원\n",
      "숭실대학교 대학원\n",
      "목포대학교 경영행정대학원\n",
      "고려대학교 대학원\n",
      "서울대학교 융합과학기술대학원\n",
      "고려대학교 공학대학원\n",
      "국민대학교 일반대학원\n",
      "고려대학교 공학대학원\n"
     ]
    }
   ],
   "source": [
    "논문 = soup.find('div', class_='srchResultListW')\n",
    "제목 = 논문.find_all('p', class_='title')\n",
    "저자 = 논문.find_all('span', class_='writer')\n",
    "소속 = 논문.find_all('span', class_='assigned')\n",
    "\n",
    "for i in 제목:\n",
    "    print(i.get_text())\n",
    "for i in 저자:\n",
    "    print(i.get_text())\n",
    "for i in 소속:\n",
    "    print(i.get_text())"
   ]
  },
  {
   "cell_type": "code",
   "execution_count": 13,
   "id": "1a4eebc2-3f5c-4b14-bf46-5f60be397efd",
   "metadata": {},
   "outputs": [],
   "source": [
    "import sys\n",
    "\n",
    "원본 = sys.stdout\n",
    "\n",
    "with open('/Users/mujae/Documents/wdwa.txt', 'a') as 파일: # a는 이어쓰기 w는 덮어쓰기 ver\n",
    "    sys.stdout = 파일\n",
    "    \n",
    "    for i in 제목:\n",
    "        print(i.get_text())\n",
    "sys.stdout = 원본"
   ]
  },
  {
   "cell_type": "code",
   "execution_count": 17,
   "id": "57dd18b6-4544-4d16-81c9-600d4017b4b7",
   "metadata": {},
   "outputs": [
    {
     "name": "stdin",
     "output_type": "stream",
     "text": [
      "1.크롤링할 이미지의 키워드?:  고양이\n",
      "2.크롤링 할 건수는?:  100\n"
     ]
    }
   ],
   "source": [
    "from bs4 import BeautifulSoup\n",
    "import chromedriver_autoinstaller\n",
    "from selenium import webdriver\n",
    "from selenium.webdriver.common.keys import Keys \n",
    "from selenium.webdriver.common.by import By \n",
    "import urllib.request\n",
    "import time, os\n",
    "#Step 2. 사용자에게 필요한 정보를 입력 받습니다.\n",
    "query_txt = input('1.크롤링할 이미지의 키워드?: ')\n",
    "cnt = int(input('2.크롤링 할 건수는?: '))\n",
    "# 현재시간 활용 폴더 생성\n",
    "now = \"/Users/mujae/Documents\" + time.strftime(\"%Y%m%d_%H%M%S\") +'-' + query_txt\n",
    "os.makedirs(now)\n",
    "os.chdir(now)"
   ]
  },
  {
   "cell_type": "code",
   "execution_count": 26,
   "id": "d3b2e79e-c8d7-44e8-905f-be9870679914",
   "metadata": {},
   "outputs": [
    {
     "ename": "NoSuchWindowException",
     "evalue": "Message: no such window: target window already closed\nfrom unknown error: web view not found\n  (Session info: chrome=114.0.5735.198)\nStacktrace:\n0   chromedriver                        0x0000000102f37088 chromedriver + 4927624\n1   chromedriver                        0x0000000102f2e543 chromedriver + 4891971\n2   chromedriver                        0x0000000102aee136 chromedriver + 434486\n3   chromedriver                        0x0000000102ac356c chromedriver + 259436\n4   chromedriver                        0x0000000102b5b11f chromedriver + 880927\n5   chromedriver                        0x0000000102b6ffe6 chromedriver + 966630\n6   chromedriver                        0x0000000102b558b3 chromedriver + 858291\n7   chromedriver                        0x0000000102b2384f chromedriver + 653391\n8   chromedriver                        0x0000000102b24bae chromedriver + 658350\n9   chromedriver                        0x0000000102ef2f5d chromedriver + 4648797\n10  chromedriver                        0x0000000102ef7ddf chromedriver + 4668895\n11  chromedriver                        0x0000000102efe84f chromedriver + 4696143\n12  chromedriver                        0x0000000102ef8d0a chromedriver + 4672778\n13  chromedriver                        0x0000000102ecb70c chromedriver + 4486924\n14  chromedriver                        0x0000000102f16068 chromedriver + 4792424\n15  chromedriver                        0x0000000102f161e7 chromedriver + 4792807\n16  chromedriver                        0x0000000102f2730f chromedriver + 4862735\n17  libsystem_pthread.dylib             0x00007ff802fa5259 _pthread_start + 125\n18  libsystem_pthread.dylib             0x00007ff802fa0c7b thread_start + 15\n",
     "output_type": "error",
     "traceback": [
      "\u001b[0;31m---------------------------------------------------------------------------\u001b[0m",
      "\u001b[0;31mNoSuchWindowException\u001b[0m                     Traceback (most recent call last)",
      "Cell \u001b[0;32mIn[26], line 13\u001b[0m\n\u001b[1;32m     11\u001b[0m \u001b[38;5;28;01mfor\u001b[39;00m i \u001b[38;5;129;01min\u001b[39;00m \u001b[38;5;28mrange\u001b[39m(\u001b[38;5;241m6\u001b[39m) :\n\u001b[1;32m     12\u001b[0m     time\u001b[38;5;241m.\u001b[39msleep(\u001b[38;5;241m3\u001b[39m)\n\u001b[0;32m---> 13\u001b[0m     \u001b[43mdriver\u001b[49m\u001b[38;5;241;43m.\u001b[39;49m\u001b[43mfind_element\u001b[49m\u001b[43m(\u001b[49m\u001b[43mBy\u001b[49m\u001b[38;5;241;43m.\u001b[39;49m\u001b[43mXPATH\u001b[49m\u001b[43m,\u001b[49m\u001b[38;5;124;43m'\u001b[39;49m\u001b[38;5;124;43m//body\u001b[39;49m\u001b[38;5;124;43m'\u001b[39;49m\u001b[43m)\u001b[49m\u001b[38;5;241m.\u001b[39msend_keys(Keys\u001b[38;5;241m.\u001b[39mEND)\n\u001b[1;32m     14\u001b[0m soup \u001b[38;5;241m=\u001b[39m BeautifulSoup(driver\u001b[38;5;241m.\u001b[39mpage_source, \u001b[38;5;124m'\u001b[39m\u001b[38;5;124mhtml.parser\u001b[39m\u001b[38;5;124m'\u001b[39m)\n\u001b[1;32m     15\u001b[0m img_src \u001b[38;5;241m=\u001b[39m [ ]\n",
      "File \u001b[0;32m~/Desktop/anaconda3/lib/python3.10/site-packages/selenium/webdriver/remote/webdriver.py:740\u001b[0m, in \u001b[0;36mWebDriver.find_element\u001b[0;34m(self, by, value)\u001b[0m\n\u001b[1;32m    737\u001b[0m     by \u001b[38;5;241m=\u001b[39m By\u001b[38;5;241m.\u001b[39mCSS_SELECTOR\n\u001b[1;32m    738\u001b[0m     value \u001b[38;5;241m=\u001b[39m \u001b[38;5;124mf\u001b[39m\u001b[38;5;124m'\u001b[39m\u001b[38;5;124m[name=\u001b[39m\u001b[38;5;124m\"\u001b[39m\u001b[38;5;132;01m{\u001b[39;00mvalue\u001b[38;5;132;01m}\u001b[39;00m\u001b[38;5;124m\"\u001b[39m\u001b[38;5;124m]\u001b[39m\u001b[38;5;124m'\u001b[39m\n\u001b[0;32m--> 740\u001b[0m \u001b[38;5;28;01mreturn\u001b[39;00m \u001b[38;5;28;43mself\u001b[39;49m\u001b[38;5;241;43m.\u001b[39;49m\u001b[43mexecute\u001b[49m\u001b[43m(\u001b[49m\u001b[43mCommand\u001b[49m\u001b[38;5;241;43m.\u001b[39;49m\u001b[43mFIND_ELEMENT\u001b[49m\u001b[43m,\u001b[49m\u001b[43m \u001b[49m\u001b[43m{\u001b[49m\u001b[38;5;124;43m\"\u001b[39;49m\u001b[38;5;124;43musing\u001b[39;49m\u001b[38;5;124;43m\"\u001b[39;49m\u001b[43m:\u001b[49m\u001b[43m \u001b[49m\u001b[43mby\u001b[49m\u001b[43m,\u001b[49m\u001b[43m \u001b[49m\u001b[38;5;124;43m\"\u001b[39;49m\u001b[38;5;124;43mvalue\u001b[39;49m\u001b[38;5;124;43m\"\u001b[39;49m\u001b[43m:\u001b[49m\u001b[43m \u001b[49m\u001b[43mvalue\u001b[49m\u001b[43m}\u001b[49m\u001b[43m)\u001b[49m[\u001b[38;5;124m\"\u001b[39m\u001b[38;5;124mvalue\u001b[39m\u001b[38;5;124m\"\u001b[39m]\n",
      "File \u001b[0;32m~/Desktop/anaconda3/lib/python3.10/site-packages/selenium/webdriver/remote/webdriver.py:346\u001b[0m, in \u001b[0;36mWebDriver.execute\u001b[0;34m(self, driver_command, params)\u001b[0m\n\u001b[1;32m    344\u001b[0m response \u001b[38;5;241m=\u001b[39m \u001b[38;5;28mself\u001b[39m\u001b[38;5;241m.\u001b[39mcommand_executor\u001b[38;5;241m.\u001b[39mexecute(driver_command, params)\n\u001b[1;32m    345\u001b[0m \u001b[38;5;28;01mif\u001b[39;00m response:\n\u001b[0;32m--> 346\u001b[0m     \u001b[38;5;28;43mself\u001b[39;49m\u001b[38;5;241;43m.\u001b[39;49m\u001b[43merror_handler\u001b[49m\u001b[38;5;241;43m.\u001b[39;49m\u001b[43mcheck_response\u001b[49m\u001b[43m(\u001b[49m\u001b[43mresponse\u001b[49m\u001b[43m)\u001b[49m\n\u001b[1;32m    347\u001b[0m     response[\u001b[38;5;124m\"\u001b[39m\u001b[38;5;124mvalue\u001b[39m\u001b[38;5;124m\"\u001b[39m] \u001b[38;5;241m=\u001b[39m \u001b[38;5;28mself\u001b[39m\u001b[38;5;241m.\u001b[39m_unwrap_value(response\u001b[38;5;241m.\u001b[39mget(\u001b[38;5;124m\"\u001b[39m\u001b[38;5;124mvalue\u001b[39m\u001b[38;5;124m\"\u001b[39m, \u001b[38;5;28;01mNone\u001b[39;00m))\n\u001b[1;32m    348\u001b[0m     \u001b[38;5;28;01mreturn\u001b[39;00m response\n",
      "File \u001b[0;32m~/Desktop/anaconda3/lib/python3.10/site-packages/selenium/webdriver/remote/errorhandler.py:245\u001b[0m, in \u001b[0;36mErrorHandler.check_response\u001b[0;34m(self, response)\u001b[0m\n\u001b[1;32m    243\u001b[0m         alert_text \u001b[38;5;241m=\u001b[39m value[\u001b[38;5;124m\"\u001b[39m\u001b[38;5;124malert\u001b[39m\u001b[38;5;124m\"\u001b[39m]\u001b[38;5;241m.\u001b[39mget(\u001b[38;5;124m\"\u001b[39m\u001b[38;5;124mtext\u001b[39m\u001b[38;5;124m\"\u001b[39m)\n\u001b[1;32m    244\u001b[0m     \u001b[38;5;28;01mraise\u001b[39;00m exception_class(message, screen, stacktrace, alert_text)  \u001b[38;5;66;03m# type: ignore[call-arg]  # mypy is not smart enough here\u001b[39;00m\n\u001b[0;32m--> 245\u001b[0m \u001b[38;5;28;01mraise\u001b[39;00m exception_class(message, screen, stacktrace)\n",
      "\u001b[0;31mNoSuchWindowException\u001b[0m: Message: no such window: target window already closed\nfrom unknown error: web view not found\n  (Session info: chrome=114.0.5735.198)\nStacktrace:\n0   chromedriver                        0x0000000102f37088 chromedriver + 4927624\n1   chromedriver                        0x0000000102f2e543 chromedriver + 4891971\n2   chromedriver                        0x0000000102aee136 chromedriver + 434486\n3   chromedriver                        0x0000000102ac356c chromedriver + 259436\n4   chromedriver                        0x0000000102b5b11f chromedriver + 880927\n5   chromedriver                        0x0000000102b6ffe6 chromedriver + 966630\n6   chromedriver                        0x0000000102b558b3 chromedriver + 858291\n7   chromedriver                        0x0000000102b2384f chromedriver + 653391\n8   chromedriver                        0x0000000102b24bae chromedriver + 658350\n9   chromedriver                        0x0000000102ef2f5d chromedriver + 4648797\n10  chromedriver                        0x0000000102ef7ddf chromedriver + 4668895\n11  chromedriver                        0x0000000102efe84f chromedriver + 4696143\n12  chromedriver                        0x0000000102ef8d0a chromedriver + 4672778\n13  chromedriver                        0x0000000102ecb70c chromedriver + 4486924\n14  chromedriver                        0x0000000102f16068 chromedriver + 4792424\n15  chromedriver                        0x0000000102f161e7 chromedriver + 4792807\n16  chromedriver                        0x0000000102f2730f chromedriver + 4862735\n17  libsystem_pthread.dylib             0x00007ff802fa5259 _pthread_start + 125\n18  libsystem_pthread.dylib             0x00007ff802fa0c7b thread_start + 15\n"
     ]
    }
   ],
   "source": [
    "# Step 3. 크롬 드라이버를 사용해서 웹 브라우저를 실행합니다.\n",
    "from itertools import permutations\n",
    "path = chromedriver_autoinstaller.install()\n",
    "li=[\"이쁜\", \"멋진\", \"강한\", \"귀여운\", \"끼부리는\", \"까부는\", \"멍청한\", \"하찮은\", \"빠른\", \"느린\", \"못생긴\", \"늙은\", \"새끼\"]\n",
    "base_link = 'https://search.naver.com/search.naver?where=image&sm=tab_jum&query='\n",
    "for w1,w2,w3 in permutations(li,3):\n",
    "    driver = webdriver.Chrome()\n",
    "    driver.get(base_link + query_txt+\"+\" +w1+\"+\"+w2+\"+\"+w3)\n",
    "    time.sleep(3)\n",
    "    # 웹페이지를 6회 스크롤 다운 합니다 (END 키 전송)\n",
    "    for i in range(6) :\n",
    "        time.sleep(3)\n",
    "        driver.find_element(By.XPATH,'//body').send_keys(Keys.END)\n",
    "    soup = BeautifulSoup(driver.page_source, 'html.parser')\n",
    "    img_src = [ ]\n",
    "    for i in soup.find_all('img', class_ = '_image _listImage') : \n",
    "        img_src.append(i[\"src\"])\n",
    "    for idx, save_img in enumerate(img_src, start = 1) : \n",
    "        urllib.request.urlretrieve(save_img, str(idx) + \".jpg\") \n",
    "        if idx == cnt :\n",
    "            break \n",
    "    driver.close()"
   ]
  },
  {
   "cell_type": "code",
   "execution_count": 33,
   "id": "bbab3114-2c6a-40ac-8932-1a6ad3b611d7",
   "metadata": {},
   "outputs": [],
   "source": [
    "# professor\n",
    "#Step 1. 필요한 모듈을 로딩합니다.\n",
    "from bs4 import BeautifulSoup\n",
    "from selenium import webdriver\n",
    "from selenium.webdriver.common.keys import Keys\n",
    "from selenium.webdriver.common.by import By\n",
    "import chromedriver_autoinstaller as ca\n",
    "import urllib.request, time, os\n",
    "def user_img(name, no) :\n",
    "    # #Step 2. 사용자에게 필요한 정보를 입력 받습니다.\n",
    "    # 현재시간 활용 폴더 생성\n",
    "    now = \"c:/py_temp/\" + time.strftime(\"%Y%m%d_%H%M%S\") +'-' + name\n",
    "    os.makedirs(now)\n",
    "    os.chdir(now)\n",
    "    # Step 3. 크롬 드라이버를 사용해서 웹 브라우저를 실행합니다.\n",
    "    try :\n",
    "        driver = webdriver.Chrome(ca.install())\n",
    "        driver.get(f'https://search.naver.com/search.naver?where=image&sm=tab_jum&query={name}')\n",
    "    except :\n",
    "        pass\n",
    "    # 웹페이지를 6회 스크롤 다운 합니다 (END 키 전송)\n",
    "    for _ in range(6) :\n",
    "        time.sleep(3)\n",
    "        driver.find_element(By.XPATH, '//body').send_keys(Keys.END)\n",
    "    # Step 4. 이미지 추출하기\n",
    "    img_src = []\n",
    "    soup = BeautifulSoup(driver.page_source, 'html.parser')\n",
    "    for i in soup.find_all('img', '_image _listImage') :\n",
    "        img_src.append(i['src'])\n",
    "    for idx, save_img in enumerate(img_src, start = 1) :\n",
    "        urllib.request.urlretrieve(save_img, str(idx) + \".png\")\n",
    "        if idx == no :\n",
    "            break\n",
    "    driver.close()"
   ]
  },
  {
   "cell_type": "code",
   "execution_count": 32,
   "id": "7db60bbc-6427-4a2f-a5f1-83878f575428",
   "metadata": {},
   "outputs": [
    {
     "name": "stdout",
     "output_type": "stream",
     "text": [
      "손기동 강사 멋있어요\n",
      "손기동 강사 멋있어요 손기동\n",
      "손기동 강사 멋있어요\n",
      "손기동 강사 멋있어요\n"
     ]
    }
   ],
   "source": [
    "my_name = '손기동'\n",
    "print(my_name, '강사 멋있어요')\n",
    "print(f'{my_name} 강사 멋있어요 {my_name}')\n",
    "print('%s 강사 멋있어요' %my_name)\n",
    "print('{} 강사 멋있어요'.format(my_name))"
   ]
  },
  {
   "cell_type": "markdown",
   "id": "8a4ffaef-a8f1-429e-aac1-7f4a5c4d3efd",
   "metadata": {},
   "source": [
    "# 사용자로부터 검색어와 검색 건수를 입력받아 네이버 블로그에서 검색한 결과 중  \n",
    "# '제목'만 추출해서 저장하는 코드"
   ]
  },
  {
   "cell_type": "code",
   "execution_count": 41,
   "id": "6c8d8a7a-a3c9-4b94-9f96-c80715f96343",
   "metadata": {},
   "outputs": [
    {
     "name": "stdin",
     "output_type": "stream",
     "text": [
      " 개\n",
      " 5\n"
     ]
    },
    {
     "name": "stdout",
     "output_type": "stream",
     "text": [
      "[힐링여행] 개같이 멸망한 캠핑 경험 0인 남자들의 인천 무의도 노지캠핑\n",
      "ep.0) 개와 고양이의 시간\n",
      "개 눈꼽 백내장 눈물자국 보여서 식겁했어요('0')\n",
      "영화 개목걸이 0(Like Dogs, 2021) 리뷰\n",
      "악마의 본성에 대한 고찰,욕망은 통제할 수 없는가<개목걸이 0>결말리뷰\n",
      "초합금혼 GX-16 에반게리온 0호기改(개)\n",
      "사당역곱창 이곱착한고기 얘들아(0명) 여기 진짜 개맛있어 모임장소로도 딱이니까 꼭... \n",
      "일본어발음 <플란다스의 개> #1/#2 MiaTV\n",
      "세계에서 가장 위험한 개 1위 핏불 테리어 포토 성격과 특징, 수명은?\n",
      "[책읽기] 내 어린고양이와 늙은개 1-3, 초(정솔) 그리고 쓰다-\n",
      "[동화로 읽는 우리 헌법] ㉑ 플란다스의 개_1부\n",
      "<플란다스의 개 1>-저자 위다, 추억의 애니 세계명작 만화\n",
      "개 1년 = 사람 7년\n",
      "엘더스크롤5 스카이림 모험 (데이드라의 개 - 1)\n",
      "싼초랑 1박2일, 한달만에 다시 온 홍천 개팔자 상팔자 애견펜션\n",
      "벼리의 2,3월의 개들랜드\n",
      "수제개껌 만들기 , 고구마 락토프리 우유\n",
      "5월 첫주(2) 개랑 양양\n",
      "개인형 퇴직연금 IRP 해지해도 될까?\n",
      "개/강아지 비행기 첫 탑승을 위한 준비\n",
      "개 도살 사건 소극수사 검찰 규탄 기자회견 안내\n",
      "새끼강아지 개껌, 3개월 푸들 간식 선택한 나만의 체크리스트\n",
      "이제 다치는 싸움은 그만! ㅣ 세상에 나쁜 개는 없다 시즌 3 <못 말리는 사내 전쟁>\n",
      "벼리의 2,3월의 개들랜드\n",
      "퇴직연금 종류 : DC, DB, 개인형 IRP 운영 방법\n",
      "여주시 도살장에서 구조된 개들의 소식\n",
      "IRP 계좌개설, 해지 후 수령하는 법까지, 개인형 퇴직연금 쉽게 정리\n",
      "자산관리 노하우(3)_대세는 개인형 퇴직연금(IRP)\n",
      "[신혼여행] 옐로나이프 투어 4일차 1편 개썰매 체험\n",
      "강아지랑 갈만한곳 대청호 오백리길 4구간 개좋았다 (토르트립 1화)\n",
      "디아블로4 릴리트의 제단 160개 위치 최단 루트 공략, 디아4 내실 중요!\n",
      "[이집트 다합 애니멀-4탄] 길 멍멍이, 댕댕이, 이집트 개?\n",
      "소형견용 가수분해 개껌 4개월 강아지 먹여보기~!\n",
      "입대한지 4일된 훈련병 \"개xx 같은게\" 욕하며 소대장 폭행\n",
      "[사랑하던 개가 떠났다] #4 강아지의 눈물, 슬퍼서 우는 걸까?\n"
     ]
    }
   ],
   "source": [
    "sc = input().rstrip() # 검색어\n",
    "T = int(input()) # 검색할 횟수\n",
    "\n",
    "\n",
    "titles =[] #제목들\n",
    "for t in range(T):\n",
    "    driver = webdriver.Chrome()\n",
    "    driver.get('https://section.blog.naver.com/BlogHome.naver?directoryNo=0&currentPage=1&groupId=0')\n",
    "    time.sleep(2)\n",
    "\n",
    "    driver.maximize_window()\n",
    "    time.sleep(1)\n",
    "    driver.find_element(By.XPATH, '//*[@id=\"header\"]/div[1]/div/div[2]/form/fieldset/div/input').click() \n",
    "    time.sleep(2)\n",
    "    driver.find_element(By.XPATH, '//*[@id=\"header\"]/div[1]/div/div[2]/form/fieldset/div/input').send_keys(sc+str(t)+\"\\n\")\n",
    "    time.sleep(2)\n",
    "    driver.find_element(By.XPATH, '//*[@id=\"header\"]/div[1]/div/div[2]/form/fieldset/a[1]/i').click()\n",
    "    time.sleep(1)\n",
    "    \n",
    "\n",
    "    html_1 = driver.page_source #현재 페이지의 전체 소스코드 다 가져오기\n",
    "    soup_1 = BeautifulSoup(html_1, 'html.parser') #현재 페이지 뷰티풀숩으로 파싱(분석)하기\n",
    "\n",
    "    for i in soup_1.find_all('span', class_='title'):\n",
    "        print(i.get_text().replace(\"\\n\",\"\"))\n",
    "    time.sleep(4)\n",
    "    driver.quit()"
   ]
  },
  {
   "cell_type": "code",
   "execution_count": null,
   "id": "9c228bdb-99d8-4ea0-9724-5f94bd8ec96b",
   "metadata": {},
   "outputs": [],
   "source": [
    "orig_stdout = sys.stdout\n",
    "file = open(\"/Users/mujae/Desktop/2023-1/ris.txt\", 'a' , encoding='UTF-8')\n",
    "sys.stdout = file #모니터에 출력하지 말고 file 에 출력해라\n",
    "\n",
    "for i in titles :\n",
    "    print(i.get_text().replace(\"\\n\",\"\"))\n",
    "\n",
    "file.close()"
   ]
  }
 ],
 "metadata": {
  "kernelspec": {
   "display_name": "Python 3 (ipykernel)",
   "language": "python",
   "name": "python3"
  },
  "language_info": {
   "codemirror_mode": {
    "name": "ipython",
    "version": 3
   },
   "file_extension": ".py",
   "mimetype": "text/x-python",
   "name": "python",
   "nbconvert_exporter": "python",
   "pygments_lexer": "ipython3",
   "version": "3.10.9"
  }
 },
 "nbformat": 4,
 "nbformat_minor": 5
}
